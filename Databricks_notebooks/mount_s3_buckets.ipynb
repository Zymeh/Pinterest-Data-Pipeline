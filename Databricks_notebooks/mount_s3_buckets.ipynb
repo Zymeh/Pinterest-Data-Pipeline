{
 "cells": [
  {
   "cell_type": "markdown",
   "metadata": {},
   "source": [
    "# Imports"
   ]
  },
  {
   "cell_type": "code",
   "execution_count": null,
   "metadata": {},
   "outputs": [],
   "source": [
    "import urllib"
   ]
  },
  {
   "cell_type": "markdown",
   "metadata": {},
   "source": [
    "This code is used to connect to the desired S3 buckets.\n",
    "\n",
    "I have cleaned the file of sensitive information saved to variables, this includes:\n",
    "\n",
    "- `AWS_S3_BUCKET`, where we would have `AWS_S3_BUCKET = '<S3_path_to_pin_bucket>'`\n",
    "\n",
    "- `MOUNT_NAME`, where we would have `MOUNT_NAME = '<desired_mount_path>'`"
   ]
  },
  {
   "cell_type": "markdown",
   "metadata": {},
   "source": [
    "Below are two functions, one to read the credentials and another to mount the s3 bucket to databricks."
   ]
  },
  {
   "cell_type": "code",
   "execution_count": null,
   "metadata": {},
   "outputs": [],
   "source": [
    "def read_creds(file_path=\"/FileStore/tables/authentication_credentials.csv\"):\n",
    "    ''' This function reads the AWS credentials stored on databricks.\n",
    "\n",
    "    Args:\n",
    "        file_path (`string`): The path to the CSV file containing credentials.\n",
    "    \n",
    "    Returns:\n",
    "        cred_dict (`dictionary`): A dictionary with the credentials needed to connect to the S3 bucket.\n",
    "    '''\n",
    "\n",
    "    # Specify file type to be csv\n",
    "    file_type = \"csv\"\n",
    "    # Indicates file has first row as the header\n",
    "    first_row_is_header = \"true\"\n",
    "    # Indicates file has comma as the delimeter\n",
    "    delimiter = \",\"\n",
    "    # Read the CSV file to spark dataframe\n",
    "    aws_keys_df = spark.read.format(file_type)\\\n",
    "    .option(\"header\", first_row_is_header)\\\n",
    "    .option(\"sep\", delimiter)\\\n",
    "    .load(file_path)\n",
    "\n",
    "    SECRET_KEY = aws_keys_df.where(col('User name')=='databricks-user').select('Secret access key').collect()[0]['Secret access key']\n",
    "\n",
    "    cred_dict = {\n",
    "        'ACCESS_KEY' : aws_keys_df.where(col('User name')=='databricks-user').select('Access key ID').collect()[0]['Access key ID'],\n",
    "        'ENCODED_SECRET_KEY' : urllib.parse.quote(string=SECRET_KEY, safe=\"\")\n",
    "    }\n",
    "\n",
    "    return cred_dict\n",
    "\n",
    "def mount_bucket(AWS_S3_BUCKET, MOUNT_NAME):\n",
    "    ''' Mounts an S3 bucket using the provided AWS credentials and mount name.\n",
    "\n",
    "    Args:\n",
    "        AWS_S3_BUCKET (str): The name of the S3 bucket.\n",
    "        MOUNT_NAME (str): The name to use for the mount point.\n",
    "\n",
    "    Raises:\n",
    "        MountException: If there is an error during the mounting process.\n",
    "    '''\n",
    "\n",
    "    cred_dict = read_creds()\n",
    "\n",
    "    # Source url\n",
    "    SOURCE_URL = \"s3n://{0}:{1}@{2}\".format(cred_dict['ACCESS_KEY'], cred_dict['ENCODED_SECRET_KEY'], AWS_S3_BUCKET)\n",
    "\n",
    "    try:\n",
    "        # Mount the drive\n",
    "        dbutils.fs.mount(SOURCE_URL, MOUNT_NAME)\n",
    "        print(f'S3 bucket {AWS_S3_BUCKET} successfully mounted at {MOUNT_NAME}.')\n",
    "\n",
    "    except Exception as e:\n",
    "        print(f'Error mounting S3 bucket {AWS_S3_BUCKET}. Error given: {e}')"
   ]
  },
  {
   "cell_type": "markdown",
   "metadata": {},
   "source": [
    "For example, to mount the S3 bucket called `'test_bucket'` with mount name `'test_mount'`, one will use:\n",
    "\n",
    "```\n",
    "mount_bucket('test_bucket', 'test_mount')\n",
    "```"
   ]
  }
 ],
 "metadata": {
  "language_info": {
   "name": "python"
  }
 },
 "nbformat": 4,
 "nbformat_minor": 2
}
